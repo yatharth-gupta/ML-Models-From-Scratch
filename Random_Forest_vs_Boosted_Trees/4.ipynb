{
 "cells": [
  {
   "cell_type": "markdown",
   "metadata": {},
   "source": [
    "# 4 - Random Forest v/s Boosted trees"
   ]
  },
  {
   "cell_type": "markdown",
   "metadata": {},
   "source": [
    "## 4.1 - Random Forest"
   ]
  },
  {
   "cell_type": "markdown",
   "metadata": {},
   "source": [
    "### Classifier"
   ]
  },
  {
   "cell_type": "code",
   "execution_count": 8,
   "metadata": {},
   "outputs": [],
   "source": [
    "import numpy as np\n",
    "from sklearn.tree import DecisionTreeClassifier\n",
    "from sklearn.utils import resample\n",
    "\n",
    "class RandomForest_Classifier:\n",
    "    def __init__(self, n_trees=100, max_depth=15,bootstrap=True,sample_fraction=0.75):\n",
    "        self.n_trees = n_trees\n",
    "        self.max_depth = max_depth\n",
    "        self.trees = []\n",
    "        self.features_per_tree = []\n",
    "        self.bootstrap = bootstrap\n",
    "        self.sample_fraction = sample_fraction\n",
    "        \n",
    "    def fit(self, X, y):\n",
    "        for i in range(self.n_trees):\n",
    "            tree = DecisionTreeClassifier(max_depth=self.max_depth)\n",
    "            # bootstrap data samples\n",
    "            X_sample, y_sample = self.bootstrap_sample(X, y)\n",
    "\n",
    "            # generate a random num from 1 to X.shape[1]\n",
    "            n_features = np.random.randint(1, X.shape[1]+1)\n",
    "            # select random subset of features\n",
    "            features_index = np.random.choice(range(X.shape[1]), size=n_features, replace=False)\n",
    "            \n",
    "            self.features_per_tree.append(features_index)\n",
    "            X_sample = X_sample[:, features_index]\n",
    "\n",
    "            # fit decision tree\n",
    "            tree.fit(X_sample, y_sample)\n",
    "            self.trees.append(tree)\n",
    "\n",
    "\n",
    "    def predict(self, X):\n",
    "        predictions = []\n",
    "        for i in range(self.n_trees):\n",
    "            features = self.features_per_tree[i]\n",
    "            X_sample = X[:, features]\n",
    "            pred = self.trees[i].predict(X_sample)\n",
    "            predictions.append(pred)\n",
    "        predictions = np.array(predictions)\n",
    "        predictions = predictions.astype(int)\n",
    "        predictions = predictions.T\n",
    "        y_pred = []\n",
    "        for pred in predictions:\n",
    "            y_pred.append(np.bincount(pred).argmax())\n",
    "        return np.array(y_pred)\n",
    "    \n",
    "    def bootstrap_sample(self, X, y):\n",
    "        if self.bootstrap:\n",
    "            # Sampling with replacement\n",
    "            X_sample, y_sample = resample(X, y, replace=True, n_samples=int(self.sample_fraction * len(X)))\n",
    "        else:\n",
    "            # Sampling without replacement\n",
    "            X_sample, y_sample = resample(X, y, replace=True, n_samples=int(self.sample_fraction * len(X)))\n",
    "\n",
    "        return X_sample, y_sample"
   ]
  },
  {
   "cell_type": "code",
   "execution_count": 9,
   "metadata": {},
   "outputs": [
    {
     "name": "stdout",
     "output_type": "stream",
     "text": [
      "Accuracy: 0.777292576419214\n",
      "single Decision tree Accuracy: 0.6943231441048034\n",
      "inbuilt random forest Accuracy: 0.7816593886462883\n"
     ]
    }
   ],
   "source": [
    "# Example usage with the Wine dataset\n",
    "from sklearn.model_selection import train_test_split\n",
    "from sklearn.tree import DecisionTreeClassifier\n",
    "from sklearn.linear_model import LogisticRegression\n",
    "from sklearn.preprocessing import StandardScaler\n",
    "from sklearn.neural_network import MLPClassifier\n",
    "\n",
    "import pandas as pd\n",
    "\n",
    "# Load the Wine dataset\n",
    "wine_data = pd.read_csv('WineQT.csv')\n",
    "wine_data = wine_data.drop([\"Id\"],axis=1)\n",
    "colums = wine_data.columns\n",
    "wine_data.head()\n",
    "wine_data = np.array(wine_data)\n",
    "\n",
    "X = wine_data[:, :-1]\n",
    "y = wine_data[:, -1] - 3\n",
    "\n",
    "y[y == 0] = 0\n",
    "y[y == 1] = 0\n",
    "y[y == 2] = 0\n",
    "y[y == 3] = 1\n",
    "y[y == 4] = 1\n",
    "y[y == 5] = 1\n",
    "\n",
    "# scale the data\n",
    "scaler = StandardScaler()\n",
    "X = scaler.fit_transform(X)\n",
    "\n",
    "# Split the data into training an(max_depth=3, max_features=3, criterion='gini'd testing sets\n",
    "X_train, X_test, y_train, y_test = train_test_split(X, y, test_size=0.2, random_state=42)\n",
    "rf = RandomForest_Classifier(n_trees=100, max_depth=15, bootstrap=True,sample_fraction=0.75)\n",
    "rf.fit(X_train, y_train)\n",
    "y_pred = rf.predict(X_test)\n",
    "print(\"Accuracy:\", np.sum(y_test == y_pred) / len(y_test))\n",
    "\n",
    "# Compare to a single decision tree\n",
    "dt = DecisionTreeClassifier(max_depth=15)\n",
    "dt.fit(X_train, y_train)\n",
    "y_pred = dt.predict(X_test)\n",
    "print(\"single Decision tree Accuracy:\", np.sum(y_test == y_pred) / len(y_test))\n",
    "\n",
    "# compare to inbuilt random forest\n",
    "from sklearn.ensemble import RandomForestClassifier\n",
    "rf = RandomForestClassifier(n_estimators=100, max_depth=15,bootstrap=True)    \n",
    "rf.fit(X_train, y_train)\n",
    "y_pred = rf.predict(X_test)\n",
    "print(\"inbuilt random forest Accuracy:\", np.sum(y_test == y_pred) / len(y_test))\n",
    "\n"
   ]
  },
  {
   "cell_type": "markdown",
   "metadata": {},
   "source": [
    "#### Hyperparameter tuning"
   ]
  },
  {
   "cell_type": "code",
   "execution_count": 10,
   "metadata": {},
   "outputs": [
    {
     "name": "stdout",
     "output_type": "stream",
     "text": [
      "Best accuracy: 0.8122270742358079\n",
      "Best n_trees: 61\n",
      "Best max_depth: 15\n",
      "Best bootstrap: False\n",
      "Best sample_fraction: 0.5\n"
     ]
    }
   ],
   "source": [
    "n_trees = range(1,100,10)\n",
    "max_depths = [5, 10, 15, 20, 25]\n",
    "sample_fractions = [0.15,0.25,0.5, 0.75, 1.0]\n",
    "bootstrap = [True, False]\n",
    "\n",
    "best_acc = 0\n",
    "best_n_trees = 0\n",
    "best_max_depth = 0\n",
    "best_bootstrap = True\n",
    "best_sample_fraction = 0\n",
    "\n",
    "\n",
    "for n_tree in n_trees:\n",
    "    for max_depth in max_depths:\n",
    "        for sample_fraction in sample_fractions:\n",
    "            for boot in bootstrap:\n",
    "                rf = RandomForest_Classifier(n_trees=n_tree, max_depth=max_depth, bootstrap=boot,sample_fraction=sample_fraction)\n",
    "                rf.fit(X_train, y_train)\n",
    "                y_pred = rf.predict(X_test)\n",
    "                acc = np.sum(y_test == y_pred) / len(y_test)\n",
    "                if acc > best_acc:\n",
    "                    best_acc = acc\n",
    "                    best_n_trees = n_tree\n",
    "                    best_max_depth = max_depth\n",
    "                    best_bootstrap = boot\n",
    "                    best_sample_fraction = sample_fraction\n",
    "\n",
    "print(\"Best accuracy:\", best_acc)\n",
    "print(\"Best n_trees:\", best_n_trees)\n",
    "print(\"Best max_depth:\", best_max_depth)\n",
    "print(\"Best bootstrap:\", best_bootstrap)\n",
    "print(\"Best sample_fraction:\", best_sample_fraction)\n"
   ]
  },
  {
   "cell_type": "code",
   "execution_count": 11,
   "metadata": {},
   "outputs": [],
   "source": [
    "best_acc_random_forest_classification = best_acc"
   ]
  },
  {
   "cell_type": "markdown",
   "metadata": {},
   "source": [
    "### Regression"
   ]
  },
  {
   "cell_type": "code",
   "execution_count": 11,
   "metadata": {},
   "outputs": [],
   "source": [
    "import numpy as np\n",
    "from sklearn.tree import DecisionTreeRegressor\n",
    "from sklearn.utils import resample\n",
    "\n",
    "class RandomForest_Regressor:\n",
    "    def __init__(self, n_trees=100, max_depth=15,bootstrap=True,sample_fraction=0.75):\n",
    "        self.n_trees = n_trees\n",
    "        self.max_depth = max_depth\n",
    "        self.trees = []\n",
    "        self.features_per_tree = []\n",
    "        self.bootstrap = bootstrap\n",
    "        self.sample_fraction = sample_fraction\n",
    "        \n",
    "    def fit(self, X, y):\n",
    "        for i in range(self.n_trees):\n",
    "            tree = DecisionTreeRegressor(max_depth=self.max_depth)\n",
    "            # bootstrap data samples\n",
    "            X_sample, y_sample = self.bootstrap_sample(X, y)\n",
    "\n",
    "            # generate a random num from 1 to X.shape[1]\n",
    "            n_features = np.random.randint(1, X.shape[1]+1)\n",
    "            # select random subset of features\n",
    "            features_index = np.random.choice(range(X.shape[1]), size=n_features, replace=False)\n",
    "            \n",
    "            self.features_per_tree.append(features_index)\n",
    "            X_sample = X_sample[:, features_index]\n",
    "\n",
    "            # fit decision tree\n",
    "            tree.fit(X_sample, y_sample)\n",
    "            self.trees.append(tree)\n",
    "\n",
    "\n",
    "    def predict(self, X):\n",
    "        predictions = []\n",
    "        for i in range(self.n_trees):\n",
    "            features = self.features_per_tree[i]\n",
    "            X_sample = X[:, features]\n",
    "            pred = self.trees[i].predict(X_sample)\n",
    "            predictions.append(pred)\n",
    "        predictions = np.array(predictions)\n",
    "        predictions = predictions.astype(int)\n",
    "        predictions = predictions.T\n",
    "        y_pred = []\n",
    "        for pred in predictions:\n",
    "            y_pred.append(np.bincount(pred).argmax())\n",
    "        return np.array(y_pred)\n",
    "    \n",
    "    def bootstrap_sample(self, X, y):\n",
    "        if self.bootstrap:\n",
    "            # Sampling with replacement\n",
    "            X_sample, y_sample = resample(X, y, replace=True, n_samples=int(self.sample_fraction * len(X)))\n",
    "        else:\n",
    "            # Sampling without replacement\n",
    "            X_sample, y_sample = resample(X, y, replace=True, n_samples=int(self.sample_fraction * len(X)))\n",
    "\n",
    "        return X_sample, y_sample"
   ]
  },
  {
   "cell_type": "code",
   "execution_count": 12,
   "metadata": {},
   "outputs": [
    {
     "name": "stdout",
     "output_type": "stream",
     "text": [
      "MSE 7.162352941176471\n",
      "single decision tree MSE 20.792002008804836\n",
      "inbuilt random forest MSE 10.069507425459578\n"
     ]
    }
   ],
   "source": [
    "# Example usage with the Housing dataset\n",
    "import numpy as np\n",
    "from sklearn.model_selection import train_test_split\n",
    "from sklearn.tree import DecisionTreeRegressor\n",
    "import pandas as pd\n",
    "from sklearn.preprocessing import StandardScaler\n",
    "\n",
    "# Load the Boston Housing dataset\n",
    "housing_data = pd.read_csv('HousingData.csv')\n",
    "columns = housing_data.columns\n",
    "\n",
    "housing_data = np.array(housing_data)\n",
    "\n",
    "# replace NA values with mean of column\n",
    "for i in range(housing_data.shape[1]):\n",
    "    housing_data[np.isnan(housing_data[:,i]),i] = np.nanmean(housing_data[:,i])\n",
    "\n",
    "X = housing_data[:, :-1]\n",
    "y = housing_data[:, -1]\n",
    "\n",
    "# scale the data\n",
    "scaler = StandardScaler()\n",
    "X = scaler.fit_transform(X)\n",
    "\n",
    "# Split the data into training, val and testing sets\n",
    "X_train, X_test, y_train, y_test = train_test_split(X, y, test_size=0.2, random_state=42)\n",
    "\n",
    "rf = RandomForest_Regressor(n_trees=100, max_depth=15, bootstrap=True,sample_fraction=0.75)\n",
    "rf.fit(X_train, y_train)\n",
    "y_pred = rf.predict(X_test)\n",
    "print(\"MSE\", np.sum((y_test - y_pred)**2) / len(y_test))\n",
    "\n",
    "# Compare to a single decision tree\n",
    "dt = DecisionTreeRegressor(max_depth=15)\n",
    "dt.fit(X_train, y_train)\n",
    "y_pred = dt.predict(X_test)\n",
    "print(\"single decision tree MSE\", np.sum((y_test - y_pred)**2) / len(y_test))\n",
    "\n",
    "# compare to inbuilt random forest\n",
    "from sklearn.ensemble import RandomForestRegressor\n",
    "rf = RandomForestRegressor(n_estimators=100, max_depth=15,bootstrap=True)\n",
    "rf.fit(X_train, y_train)\n",
    "y_pred = rf.predict(X_test)\n",
    "print(\"inbuilt random forest MSE\", np.sum((y_test - y_pred)**2) / len(y_test))\n",
    "\n"
   ]
  },
  {
   "cell_type": "markdown",
   "metadata": {},
   "source": [
    "#### Hyperparameter tuning"
   ]
  },
  {
   "cell_type": "code",
   "execution_count": 13,
   "metadata": {},
   "outputs": [
    {
     "name": "stdout",
     "output_type": "stream",
     "text": [
      "Best MSE: 7.219215686274511\n",
      "Best n_trees: 200\n",
      "Best max_depth: 20\n",
      "Best bootstrap: False\n"
     ]
    }
   ],
   "source": [
    "n_trees = [5, 20, 50, 100, 200, 500]\n",
    "max_depths = [5, 10, 15, 20, 25]\n",
    "sample_fractions = [0.15,0.25,0.5, 0.75, 1.0]\n",
    "bootstrap = [True, False]\n",
    "\n",
    "best_mse = 1000000000\n",
    "best_n_trees = 0\n",
    "best_max_depth = 0\n",
    "best_bootstrap = True\n",
    "\n",
    "for n_tree in n_trees:\n",
    "    for max_depth in max_depths:\n",
    "        for sample_fraction in sample_fractions:\n",
    "            for boot in bootstrap:\n",
    "                rf = RandomForest_Regressor(n_trees=n_tree, max_depth=max_depth, bootstrap=boot,sample_fraction=sample_fraction)\n",
    "                rf.fit(X_train, y_train)\n",
    "                y_pred = rf.predict(X_test)\n",
    "                mse = np.sum((y_test - y_pred)**2) / len(y_test)\n",
    "                if mse < best_mse:\n",
    "                    best_mse = mse\n",
    "                    best_n_trees = n_tree\n",
    "                    best_max_depth = max_depth\n",
    "                    best_bootstrap = boot\n",
    "\n",
    "print(\"Best MSE:\", best_mse)\n",
    "print(\"Best n_trees:\", best_n_trees)\n",
    "print(\"Best max_depth:\", best_max_depth)\n",
    "print(\"Best bootstrap:\", best_bootstrap)\n"
   ]
  },
  {
   "cell_type": "code",
   "execution_count": 16,
   "metadata": {},
   "outputs": [],
   "source": [
    "best_mse_random_forest_regresssion = best_mse"
   ]
  },
  {
   "cell_type": "markdown",
   "metadata": {},
   "source": [
    "## 4.2 - AdaBoost with Decision Trees"
   ]
  },
  {
   "cell_type": "markdown",
   "metadata": {},
   "source": [
    "### Classifier"
   ]
  },
  {
   "cell_type": "code",
   "execution_count": 12,
   "metadata": {},
   "outputs": [],
   "source": [
    "import numpy as np\n",
    "from sklearn.tree import DecisionTreeClassifier\n",
    "\n",
    "# implement AdaBoost Classifier\n",
    "class AdaBoost_Classifier:\n",
    "    def __init__(self, n_estimators=100, max_depth=1):\n",
    "        self.n_estimators = n_estimators\n",
    "        self.max_depth = max_depth\n",
    "        self.trees = []\n",
    "        self.alphas = []\n",
    "        \n",
    "    def fit(self, X, y):\n",
    "        # initialize weights\n",
    "        w = np.ones(len(X)) / len(X)\n",
    "        for i in range(self.n_estimators):\n",
    "            tree = DecisionTreeClassifier(max_depth=self.max_depth)\n",
    "            # fit decision tree\n",
    "            tree.fit(X, y, sample_weight=w)\n",
    "            # compute error\n",
    "            y_pred = tree.predict(X)\n",
    "            err = np.sum(w[y_pred != y])\n",
    "            # compute alpha\n",
    "            alpha = 0.5 * np.log((1 - err) / max(err, 1e-10))\n",
    "            # update weights\n",
    "            w *= np.exp(-alpha * y * y_pred)\n",
    "            w /= np.sum(w)\n",
    "            self.trees.append(tree)\n",
    "            self.alphas.append(alpha)\n",
    "            \n",
    "    def predict(self, X):\n",
    "        # take weighted sum of predictions\n",
    "        pred = np.zeros(len(X))\n",
    "        for i in range(self.n_estimators):\n",
    "            pred += self.alphas[i] * self.trees[i].predict(X)\n",
    "        # convert to sign\n",
    "        return np.sign(pred)\n",
    "    \n"
   ]
  },
  {
   "cell_type": "code",
   "execution_count": 25,
   "metadata": {},
   "outputs": [],
   "source": [
    "# Example usage with the Wine dataset\n",
    "from sklearn.model_selection import train_test_split\n",
    "from sklearn.preprocessing import StandardScaler\n",
    "from sklearn.metrics import accuracy_score\n",
    "\n",
    "import pandas as pd\n",
    "\n",
    "# Load the Wine dataset\n",
    "wine_data = pd.read_csv('WineQT.csv')\n",
    "wine_data = wine_data.drop([\"Id\"],axis=1)\n",
    "colums = wine_data.columns\n",
    "wine_data.head()\n",
    "\n",
    "wine_data = np.array(wine_data)\n",
    "\n",
    "X = wine_data[:, :-1]\n",
    "y = wine_data[:, -1] - 3\n",
    "\n",
    "# convert labels to 0 and 1\n",
    "y[y == 0] = -1\n",
    "y[y == 1] = -1\n",
    "y[y == 2] = -1\n",
    "y[y == 3] = 1\n",
    "y[y == 4] = 1\n",
    "y[y == 5] = 1\n",
    "\n",
    "# scale the data\n",
    "scaler = StandardScaler()\n",
    "X = scaler.fit_transform(X)\n",
    "\n",
    "# Split the data into training and testing sets\n",
    "X_train, X_test, y_train, y_test = train_test_split(X, y, test_size=0.15)\n"
   ]
  },
  {
   "cell_type": "markdown",
   "metadata": {},
   "source": [
    "#### Hyperparameter tuning"
   ]
  },
  {
   "cell_type": "code",
   "execution_count": 26,
   "metadata": {},
   "outputs": [
    {
     "name": "stdout",
     "output_type": "stream",
     "text": [
      "Best accuracy: 81.3953488372093\n",
      "Best num_estimators: 21\n",
      "Best stub_depth: 2\n"
     ]
    }
   ],
   "source": [
    "import time\n",
    "num_estimators = range(1, 100, 10)\n",
    "stub_depths = [1, 2, 3]\n",
    "\n",
    "best_acc = 0\n",
    "best_num_estimators = 0\n",
    "best_stub_depth = 0\n",
    "\n",
    "training_time_num_est = []\n",
    "accuracy_num_est = []\n",
    "\n",
    "for num_estimator in num_estimators:\n",
    "    start_time = time.time()\n",
    "    best_acc_est = 0\n",
    "    for stub_depth in stub_depths:\n",
    "        ada = AdaBoost_Classifier(n_estimators=num_estimator, max_depth=stub_depth)\n",
    "        ada.fit(X_train, y_train)\n",
    "        y_pred = ada.predict(X_test)\n",
    "        acc = accuracy_score(y_test, y_pred)\n",
    "        if acc > best_acc_est:\n",
    "            best_acc_est = acc\n",
    "        if acc > best_acc:\n",
    "            best_acc = acc\n",
    "            best_num_estimators = num_estimator\n",
    "            best_stub_depth = stub_depth\n",
    "    end_time = time.time()\n",
    "    accuracy_num_est.append(best_acc_est*100)\n",
    "    training_time_num_est.append(end_time-start_time)\n",
    "\n",
    "\n",
    "print(\"Best accuracy:\", best_acc*100)\n",
    "print(\"Best num_estimators:\", best_num_estimators)\n",
    "print(\"Best stub_depth:\", best_stub_depth)\n"
   ]
  },
  {
   "cell_type": "code",
   "execution_count": 28,
   "metadata": {},
   "outputs": [
    {
     "data": {
      "image/png": "[encoded data removed]",
      "text/plain": [
       "<Figure size 640x480 with 1 Axes>"
      ]
     },
     "metadata": {},
     "output_type": "display_data"
    },
    {
     "data": {
      "image/png": "[encoded data removed]",
      "text/plain": [
       "<Figure size 640x480 with 1 Axes>"
      ]
     },
     "metadata": {},
     "output_type": "display_data"
    }
   ],
   "source": [
    "# plot the training time vs number of estimators\n",
    "import matplotlib.pyplot as plt\n",
    "plt.plot(num_estimators, training_time_num_est)\n",
    "plt.xlabel(\"Number of estimators\")\n",
    "plt.ylabel(\"Training time (s)\")\n",
    "plt.show()\n",
    "\n",
    "# plot the accuracy vs number of estimators\n",
    "plt.plot(num_estimators, accuracy_num_est)\n",
    "plt.xlabel(\"Number of estimators\")\n",
    "plt.ylabel(\"Accuracy (%)\")\n",
    "plt.show()\n"
   ]
  },
  {
   "cell_type": "code",
   "execution_count": 27,
   "metadata": {},
   "outputs": [
    {
     "name": "stdout",
     "output_type": "stream",
     "text": [
      "Adaboost accuracy: 81.3953488372093\n",
      "Random forest classification accuracy: 81.22270742358079\n"
     ]
    }
   ],
   "source": [
    "print(\"Adaboost accuracy:\", best_acc*100)\n",
    "print(\"Random forest classification accuracy:\", best_acc_random_forest_classification*100)"
   ]
  },
  {
   "cell_type": "markdown",
   "metadata": {},
   "source": [
    "### Regression"
   ]
  },
  {
   "cell_type": "code",
   "execution_count": 75,
   "metadata": {},
   "outputs": [],
   "source": [
    "import numpy as np\n",
    "from sklearn.tree import DecisionTreeRegressor\n",
    "\n",
    "def weighted_median(values, weights):\n",
    "    \n",
    "    sorted_indices = values.argsort()\n",
    "    values = values[sorted_indices]\n",
    "    weights = weights[sorted_indices]\n",
    "    weights_cumulative_sum = weights.cumsum()\n",
    "    median_weight = np.argmax(weights_cumulative_sum >= sum(weights)/2)\n",
    "    return values[median_weight]\n",
    "\n",
    "class AdaBoost_Regressor:\n",
    "    def __init__(self, n_estimators=100, max_depth=1):\n",
    "        self.n_estimators = n_estimators\n",
    "        self.max_depth = max_depth\n",
    "        self.trees = []\n",
    "        self.alphas = []\n",
    "        \n",
    "    def fit(self, X, y):\n",
    "        # initialize weights\n",
    "        w = np.ones(len(X)) / len(X)\n",
    "        for i in range(self.n_estimators):\n",
    "            tree = DecisionTreeRegressor(max_depth=self.max_depth)\n",
    "            # fit decision tree\n",
    "            tree.fit(X, y, sample_weight=w)\n",
    "            # compute error\n",
    "            y_pred = tree.predict(X)\n",
    "            err = np.sum((w * np.abs(y_pred - y))/np.max(y_pred - y))\n",
    "            # compute alpha\n",
    "            alpha = err/(1-err)\n",
    "            # update weights\n",
    "            w *= alpha ** (1 - err)\n",
    "            w /= np.sum(w)\n",
    "            self.trees.append(tree)\n",
    "            self.alphas.append(alpha)\n",
    "            \n",
    "    # def predict(self, X):\n",
    "    #     # take weighted sum of predictions\n",
    "    #     pred = np.zeros(len(X))\n",
    "    #     for i in range(self.n_estimators):\n",
    "    #         pred -= np.log(self.alphas[i]) * self.trees[i].predict(X)\n",
    "    #     # convert to sign\n",
    "    #     return pred\n",
    "\n",
    "    def predict(self, X_test):\n",
    "        N_test = len(X_test)\n",
    "        fitted_values = np.empty((N_test, self.n_estimators))\n",
    "        for t, tree in enumerate(self.trees):\n",
    "            fitted_values[:,t] = tree.predict(X_test)\n",
    "        alphas = np.array(self.alphas)\n",
    "        return np.array([weighted_median(fitted_values[n], np.log(1/alphas)) for n in range(N_test)]) \n",
    "        \n",
    "        "
   ]
  },
  {
   "cell_type": "code",
   "execution_count": 76,
   "metadata": {},
   "outputs": [],
   "source": [
    "# Example usage with the Housing dataset\n",
    "import numpy as np\n",
    "from sklearn.model_selection import train_test_split\n",
    "from sklearn.tree import DecisionTreeRegressor\n",
    "\n",
    "# Load the Boston Housing dataset\n",
    "housing_data = pd.read_csv('HousingData.csv')\n",
    "columns = housing_data.columns\n",
    "\n",
    "housing_data = np.array(housing_data)\n",
    "\n",
    "# replace NA values with mean of column\n",
    "for i in range(housing_data.shape[1]):\n",
    "    housing_data[np.isnan(housing_data[:,i]),i] = np.nanmean(housing_data[:,i])\n",
    "\n",
    "X = housing_data[:, :-1]\n",
    "y = housing_data[:, -1]\n",
    "\n",
    "# scale the data\n",
    "scaler = StandardScaler()\n",
    "X = scaler.fit_transform(X)\n",
    "\n",
    "# Split the data into training and testing sets\n",
    "X_train, X_test, y_train, y_test = train_test_split(X, y, test_size=0.2)\n"
   ]
  },
  {
   "cell_type": "markdown",
   "metadata": {},
   "source": [
    "#### Hyperparameter tuning"
   ]
  },
  {
   "cell_type": "code",
   "execution_count": 77,
   "metadata": {},
   "outputs": [
    {
     "name": "stdout",
     "output_type": "stream",
     "text": [
      "Best mse: 23.445501797563324\n",
      "Best num_estimators: 51\n",
      "Best stub_depth: 3\n"
     ]
    }
   ],
   "source": [
    "import time\n",
    "num_estimators = range(1, 100, 10)\n",
    "stub_depths = [1, 2, 3]\n",
    "\n",
    "best_mse = np.inf\n",
    "best_num_estimators = 0\n",
    "best_stub_depth = 0\n",
    "\n",
    "training_time_num_est = []\n",
    "\n",
    "for num_estimator in num_estimators:\n",
    "    start_time = time.time()\n",
    "    for stub_depth in stub_depths:\n",
    "        ada = AdaBoost_Regressor(n_estimators=num_estimator, max_depth=stub_depth)\n",
    "        ada.fit(X_train, y_train)\n",
    "        y_pred = ada.predict(X_test)\n",
    "        mse = np.sum((y_test - y_pred)**2) / len(y_test)\n",
    "        if mse < best_mse:\n",
    "            best_mse = mse\n",
    "            best_num_estimators = num_estimator\n",
    "            best_stub_depth = stub_depth\n",
    "    end_time = time.time()\n",
    "    training_time_num_est.append(end_time-start_time)\n",
    "\n",
    "print(\"Best mse:\", best_mse)\n",
    "print(\"Best num_estimators:\", best_num_estimators)\n",
    "print(\"Best stub_depth:\", best_stub_depth)\n",
    "    "
   ]
  },
  {
   "cell_type": "code",
   "execution_count": 78,
   "metadata": {},
   "outputs": [
    {
     "data": {
      "image/png": "[encoded data removed]",
      "text/plain": [
       "<Figure size 640x480 with 1 Axes>"
      ]
     },
     "metadata": {},
     "output_type": "display_data"
    }
   ],
   "source": [
    "# plot the training time vs number of estimators\n",
    "import matplotlib.pyplot as plt\n",
    "plt.plot(num_estimators, training_time_num_est)\n",
    "plt.xlabel(\"Number of estimators\")\n",
    "plt.ylabel(\"Training time (s)\")\n",
    "plt.show()"
   ]
  },
  {
   "cell_type": "code",
   "execution_count": 79,
   "metadata": {},
   "outputs": [
    {
     "name": "stdout",
     "output_type": "stream",
     "text": [
      "Adaboost MSE: 23.445501797563324\n",
      "Random forest regression MSE: 7.219215686274511\n"
     ]
    }
   ],
   "source": [
    "print(\"Adaboost MSE:\", best_mse)\n",
    "print(\"Random forest regression MSE:\", best_mse_random_forest_regresssion)"
   ]
  },
  {
   "cell_type": "markdown",
   "metadata": {},
   "source": [
    "## 4.3 - Gradient Boosting"
   ]
  },
  {
   "cell_type": "markdown",
   "metadata": {},
   "source": [
    "### Classifier"
   ]
  },
  {
   "cell_type": "code",
   "execution_count": 80,
   "metadata": {},
   "outputs": [],
   "source": [
    "# implementation of gradient boosting for classification\n",
    "import numpy as np\n",
    "from sklearn.tree import DecisionTreeRegressor\n",
    "\n",
    "class GradientBoosting_Classifier:\n",
    "    def __init__(self, learning_rate=0.1, max_depth=3, n_estimators=100):\n",
    "        self.learning_rate = learning_rate\n",
    "        self.max_depth = max_depth\n",
    "        self.n_estimators = n_estimators\n",
    "        self.trees = []\n",
    "        self.f0 = None\n",
    "        self.f0_pred = None\n",
    "        \n",
    "    def fit(self, X, y):\n",
    "        self.f0 = np.log(np.sum(y) / (len(y) - np.sum(y)))\n",
    "        self.f0_pred = np.repeat(self.f0, len(y))\n",
    "        for i in range(self.n_estimators):\n",
    "            # calculate pseudo-residuals\n",
    "            pseudo_residuals = y - 1 / (1 + np.exp(-self.f0_pred))\n",
    "            # fit regression tree to pseudo-residuals\n",
    "            tree = DecisionTreeRegressor(max_depth=self.max_depth)\n",
    "            tree.fit(X, pseudo_residuals)\n",
    "            self.trees.append(tree)\n",
    "            # update f0_pred\n",
    "            self.f0_pred += self.learning_rate * tree.predict(X)\n",
    "            \n",
    "    def predict(self, X):\n",
    "        f0_pred = np.repeat(self.f0, len(X))\n",
    "        for tree in self.trees:\n",
    "            f0_pred += self.learning_rate * tree.predict(X)\n",
    "        return np.round(1 / (1 + np.exp(-f0_pred)))\n",
    "    \n",
    "    def score(self, X, y):\n",
    "        return np.mean(self.predict(X) == y)"
   ]
  },
  {
   "cell_type": "code",
   "execution_count": 82,
   "metadata": {},
   "outputs": [],
   "source": [
    "\n",
    "# Load the Wine dataset\n",
    "wine_data = pd.read_csv('WineQT.csv')\n",
    "wine_data = wine_data.drop([\"Id\"],axis=1)\n",
    "colums = wine_data.columns\n",
    "wine_data.head()\n",
    "\n",
    "wine_data = np.array(wine_data)\n",
    "\n",
    "X = wine_data[:, :-1]\n",
    "y = wine_data[:, -1] - 3\n",
    "\n",
    "# convert labels to 0 and 1\n",
    "y[y == 1] = 0\n",
    "y[y == 0] = 0\n",
    "y[y == 2] = 0\n",
    "y[y == 3] = 1\n",
    "y[y == 4] = 1\n",
    "y[y == 5] = 1\n",
    "\n",
    "# scale the data\n",
    "scaler = StandardScaler()\n",
    "X = scaler.fit_transform(X)\n",
    "\n",
    "# Split the data into training and testing sets\n",
    "X_train, X_test, y_train, y_test = train_test_split(X, y, test_size=0.2)"
   ]
  },
  {
   "cell_type": "markdown",
   "metadata": {},
   "source": [
    "#### Hyperparameter tuning"
   ]
  },
  {
   "cell_type": "code",
   "execution_count": 83,
   "metadata": {},
   "outputs": [
    {
     "name": "stdout",
     "output_type": "stream",
     "text": [
      "Best accuracy: 0.7947598253275109\n",
      "Best num_estimators: 41\n",
      "Best max_depth: 5\n",
      "Best learning_rate: 0.5\n"
     ]
    }
   ],
   "source": [
    "import time\n",
    "num_estimators = range(1, 100, 10)\n",
    "max_depths = [1, 2, 3, 4, 5]\n",
    "learning_rates = [0.01, 0.1, 0.5, 1.0]\n",
    "\n",
    "best_acc = 0\n",
    "best_num_estimators = 0\n",
    "best_max_depth = 0\n",
    "best_learning_rate = 0\n",
    "\n",
    "training_time_num_est = []\n",
    "accuracy_num_est = []\n",
    "\n",
    "for num_estimator in num_estimators:\n",
    "    start_time = time.time()\n",
    "    for max_depth in max_depths:\n",
    "        for learning_rate in learning_rates:\n",
    "            gb = GradientBoosting_Classifier(learning_rate=learning_rate, max_depth=max_depth, n_estimators=num_estimator)\n",
    "            gb.fit(X_train, y_train)\n",
    "            y_pred = gb.predict(X_test)\n",
    "            acc = np.sum(y_test == y_pred) / len(y_test)\n",
    "            if acc > best_acc:\n",
    "                best_acc = acc\n",
    "                best_num_estimators = num_estimator\n",
    "                best_max_depth = max_depth\n",
    "                best_learning_rate = learning_rate\n",
    "    end_time = time.time()\n",
    "    accuracy_num_est.append(best_acc*100)\n",
    "    training_time_num_est.append(end_time-start_time)\n",
    "\n",
    "print(\"Best accuracy:\", best_acc)\n",
    "print(\"Best num_estimators:\", best_num_estimators)\n",
    "print(\"Best max_depth:\", best_max_depth)\n",
    "print(\"Best learning_rate:\", best_learning_rate)"
   ]
  },
  {
   "cell_type": "code",
   "execution_count": 84,
   "metadata": {},
   "outputs": [
    {
     "data": {
      "image/png": "[encoded data removed]",
      "text/plain": [
       "<Figure size 640x480 with 1 Axes>"
      ]
     },
     "metadata": {},
     "output_type": "display_data"
    },
    {
     "data": {
      "image/png": "[encoded data removed]",
      "text/plain": [
       "<Figure size 640x480 with 1 Axes>"
      ]
     },
     "metadata": {},
     "output_type": "display_data"
    }
   ],
   "source": [
    "#plot the training time vs number of estimators\n",
    "import matplotlib.pyplot as plt\n",
    "plt.plot(num_estimators, training_time_num_est)\n",
    "plt.xlabel(\"Number of estimators\")\n",
    "plt.ylabel(\"Training time (s)\")\n",
    "plt.show()\n",
    "\n",
    "# plot the accuracy vs number of estimators\n",
    "plt.plot(num_estimators, accuracy_num_est)\n",
    "plt.xlabel(\"Number of estimators\")\n",
    "plt.ylabel(\"Accuracy (%)\")\n",
    "plt.show()\n"
   ]
  },
  {
   "cell_type": "markdown",
   "metadata": {},
   "source": [
    "### Regression"
   ]
  },
  {
   "cell_type": "code",
   "execution_count": 85,
   "metadata": {},
   "outputs": [],
   "source": [
    "# implementation of gradient boosting for regression\n",
    "import numpy as np\n",
    "from sklearn.tree import DecisionTreeRegressor\n",
    "\n",
    "class GradientBoosting_Regressor:\n",
    "    def __init__(self, learning_rate=0.1, max_depth=3, n_estimators=100):\n",
    "        self.learning_rate = learning_rate\n",
    "        self.max_depth = max_depth\n",
    "        self.n_estimators = n_estimators\n",
    "        self.trees = []\n",
    "        self.f0 = None\n",
    "        self.f0_pred = None\n",
    "        \n",
    "    def fit(self, X, y):\n",
    "        self.f0 = np.mean(y)\n",
    "        self.f0_pred = np.repeat(self.f0, len(y))\n",
    "        for i in range(self.n_estimators):\n",
    "            # calculate pseudo-residuals\n",
    "            pseudo_residuals = y - self.f0_pred\n",
    "            # fit regression tree to pseudo-residuals\n",
    "            tree = DecisionTreeRegressor(max_depth=self.max_depth)\n",
    "            tree.fit(X, pseudo_residuals)\n",
    "            self.trees.append(tree)\n",
    "            # update f0_pred\n",
    "            self.f0_pred += self.learning_rate * tree.predict(X)\n",
    "            \n",
    "    def predict(self, X):\n",
    "        f0_pred = np.repeat(self.f0, len(X))\n",
    "        for tree in self.trees:\n",
    "            f0_pred += self.learning_rate * tree.predict(X)\n",
    "        return f0_pred\n",
    "    \n",
    "    def score(self, X, y):\n",
    "        return np.mean((self.predict(X) - y)**2)\n",
    "    "
   ]
  },
  {
   "cell_type": "code",
   "execution_count": 86,
   "metadata": {},
   "outputs": [
    {
     "name": "stdout",
     "output_type": "stream",
     "text": [
      "MSE 8.63403213756569\n",
      "Inbuilt MSE 8.865332188496735\n"
     ]
    }
   ],
   "source": [
    "# Example usage with the Housing dataset\n",
    "import numpy as np\n",
    "from sklearn.model_selection import train_test_split\n",
    "from sklearn.tree import DecisionTreeRegressor\n",
    "\n",
    "# Load the Boston Housing dataset\n",
    "housing_data = pd.read_csv('HousingData.csv')\n",
    "columns = housing_data.columns\n",
    "housing_data = np.array(housing_data)\n",
    "\n",
    "# replace NA values with mean of column\n",
    "for i in range(housing_data.shape[1]):\n",
    "    housing_data[np.isnan(housing_data[:,i]),i] = np.nanmean(housing_data[:,i])\n",
    "\n",
    "X = housing_data[:, :-1]\n",
    "y = housing_data[:, -1]\n",
    "\n",
    "# scale the data\n",
    "scaler = StandardScaler()\n",
    "X = scaler.fit_transform(X)\n",
    "\n",
    "# Split the data into training and testing sets\n",
    "X_train, X_test, y_train, y_test = train_test_split(X, y, test_size=0.2)\n",
    "\n",
    "gb = GradientBoosting_Regressor(learning_rate=0.1, max_depth=3, n_estimators=100)\n",
    "gb.fit(X_train, y_train)\n",
    "y_pred = gb.predict(X_test)\n",
    "print(\"MSE\", np.sum((y_test - y_pred)**2) / len(y_test))\n",
    "\n",
    "# Compare to inbuilt GradientBoostingRegressor\n",
    "from sklearn.ensemble import GradientBoostingRegressor\n",
    "gb = GradientBoostingRegressor(learning_rate=0.1, max_depth=3, n_estimators=100)\n",
    "gb.fit(X_train, y_train)\n",
    "y_pred = gb.predict(X_test)\n",
    "print(\"Inbuilt MSE\", np.sum((y_test - y_pred)**2) / len(y_test))\n",
    "\n"
   ]
  },
  {
   "cell_type": "markdown",
   "metadata": {},
   "source": [
    "#### Hyperparameter tuning"
   ]
  },
  {
   "cell_type": "code",
   "execution_count": 88,
   "metadata": {},
   "outputs": [
    {
     "name": "stdout",
     "output_type": "stream",
     "text": [
      "Best mse: 8.04394045694225\n",
      "Best num_estimators: 11\n",
      "Best max_depth: 3\n",
      "Best learning_rate: 0.5\n"
     ]
    }
   ],
   "source": [
    "import time\n",
    "num_estimators = range(1, 100, 10)\n",
    "max_depths = [1, 2, 3, 4, 5]\n",
    "learning_rates = [0.01, 0.1, 0.5, 1.0]\n",
    "\n",
    "best_mse = np.inf\n",
    "best_num_estimators = 0\n",
    "best_max_depth = 0\n",
    "best_learning_rate = 0\n",
    "\n",
    "training_time_num_est = []\n",
    "\n",
    "for num_estimator in num_estimators:\n",
    "    start_time = time.time()\n",
    "    for max_depth in max_depths:\n",
    "        for learning_rate in learning_rates:\n",
    "            gb = GradientBoosting_Regressor(learning_rate=learning_rate, max_depth=max_depth, n_estimators=num_estimator)\n",
    "            gb.fit(X_train, y_train)\n",
    "            y_pred = gb.predict(X_test)\n",
    "            mse = np.sum((y_test - y_pred)**2) / len(y_test)\n",
    "            if mse < best_mse:\n",
    "                best_mse = mse\n",
    "                best_num_estimators = num_estimator\n",
    "                best_max_depth = max_depth\n",
    "                best_learning_rate = learning_rate\n",
    "    end_time = time.time()\n",
    "    training_time_num_est.append(end_time-start_time)\n",
    "\n",
    "print(\"Best mse:\", best_mse)\n",
    "print(\"Best num_estimators:\", best_num_estimators)\n",
    "print(\"Best max_depth:\", best_max_depth)\n",
    "print(\"Best learning_rate:\", best_learning_rate)"
   ]
  },
  {
   "cell_type": "code",
   "execution_count": 89,
   "metadata": {},
   "outputs": [
    {
     "data": {
      "image/png": "[encoded data removed]",
      "text/plain": [
       "<Figure size 640x480 with 1 Axes>"
      ]
     },
     "metadata": {},
     "output_type": "display_data"
    }
   ],
   "source": [
    "# plot the training time vs number of estimators\n",
    "import matplotlib.pyplot as plt\n",
    "plt.plot(num_estimators, training_time_num_est)\n",
    "plt.xlabel(\"Number of estimators\")\n",
    "plt.ylabel(\"Training time (s)\")\n",
    "plt.show()"
   ]
  },
  {
   "cell_type": "markdown",
   "metadata": {},
   "source": [
    "### Analysis of the mistakes of these models\n",
    "\n",
    "These models are sensitive to noisy data and tends to overfit on the noise and outliers. So, they are prone to overfitting. \n",
    "\n",
    "For smaller dimension data, there is a strong reduction of randomness, so random forest would lose their edge over decision trees. Moreover, random forest tends to become slower with the increasing number of trees. \n",
    "\n",
    "\n",
    "### Feature Similarity\n",
    "\n",
    "The most striking similarity of all these models is the fact that all of them are prone to noisy labels and outliers. Thus, one needs to prepare quality data before training these models. This is because the classifiers employed by these models are decision trees, which do not handle outliers or noisy data sets."
   ]
  }
 ],
 "metadata": {
  "kernelspec": {
   "display_name": "Python 3",
   "language": "python",
   "name": "python3"
  },
  "language_info": {
   "codemirror_mode": {
    "name": "ipython",
    "version": 3
   },
   "file_extension": ".py",
   "mimetype": "text/x-python",
   "name": "python",
   "nbconvert_exporter": "python",
   "pygments_lexer": "ipython3",
   "version": "3.10.12"
  },
  "orig_nbformat": 4
 },
 "nbformat": 4,
 "nbformat_minor": 2
}
